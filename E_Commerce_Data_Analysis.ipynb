{
 "cells": [
  {
   "cell_type": "code",
   "execution_count": 16,
   "id": "a5343f78-0771-4bc7-8510-0628bb1b592f",
   "metadata": {},
   "outputs": [
    {
     "name": "stdout",
     "output_type": "stream",
     "text": [
      "Processing customers.csv\n",
      "NaN values before replacement:\n",
      "customer_id                 0\n",
      "customer_unique_id          0\n",
      "customer_zip_code_prefix    0\n",
      "customer_city               0\n",
      "customer_state              0\n",
      "dtype: int64\n",
      "\n",
      "Processing orders.csv\n",
      "NaN values before replacement:\n",
      "order_id                            0\n",
      "customer_id                         0\n",
      "order_status                        0\n",
      "order_purchase_timestamp            0\n",
      "order_approved_at                 160\n",
      "order_delivered_carrier_date     1783\n",
      "order_delivered_customer_date    2965\n",
      "order_estimated_delivery_date       0\n",
      "dtype: int64\n",
      "\n",
      "Processing sellers.csv\n",
      "NaN values before replacement:\n",
      "seller_id                 0\n",
      "seller_zip_code_prefix    0\n",
      "seller_city               0\n",
      "seller_state              0\n",
      "dtype: int64\n",
      "\n",
      "Processing products.csv\n",
      "NaN values before replacement:\n",
      "product_id                      0\n",
      "product category              610\n",
      "product_name_length           610\n",
      "product_description_length    610\n",
      "product_photos_qty            610\n",
      "product_weight_g                2\n",
      "product_length_cm               2\n",
      "product_height_cm               2\n",
      "product_width_cm                2\n",
      "dtype: int64\n",
      "\n",
      "Processing geolocation.csv\n",
      "NaN values before replacement:\n",
      "geolocation_zip_code_prefix    0\n",
      "geolocation_lat                0\n",
      "geolocation_lng                0\n",
      "geolocation_city               0\n",
      "geolocation_state              0\n",
      "dtype: int64\n",
      "\n",
      "Processing payments.csv\n",
      "NaN values before replacement:\n",
      "order_id                0\n",
      "payment_sequential      0\n",
      "payment_type            0\n",
      "payment_installments    0\n",
      "payment_value           0\n",
      "dtype: int64\n",
      "\n",
      "Processing order_items.csv\n",
      "NaN values before replacement:\n",
      "order_id               0\n",
      "order_item_id          0\n",
      "product_id             0\n",
      "seller_id              0\n",
      "shipping_limit_date    0\n",
      "price                  0\n",
      "freight_value          0\n",
      "dtype: int64\n",
      "\n"
     ]
    }
   ],
   "source": [
    "import pandas as pd\n",
    "import mysql.connector\n",
    "import os\n",
    "\n",
    "# List of CSV files and their corresponding table names\n",
    "csv_files = [\n",
    "    ('customers.csv', 'customers'),\n",
    "    ('orders.csv', 'orders'),\n",
    "    ('sellers.csv', 'sellers'),\n",
    "    ('products.csv', 'products'),\n",
    "    ('geolocation.csv', 'geolocation'),\n",
    "    ('payments.csv', 'payments'),\n",
    "    ('order_items.csv','order_items'),  # Added payments.csv for specific handling\n",
    "]\n",
    "\n",
    "# Connect to the MySQL database\n",
    "conn = mysql.connector.connect(\n",
    "    host='localhost',\n",
    "    user='root',\n",
    "    password='Simba@0311',\n",
    "    database='ecommerce'\n",
    ")\n",
    "cursor = conn.cursor()\n",
    "\n",
    "# Folder containing the CSV files\n",
    "folder_path = 'C:/DATA_PROJECTS/ECommerce'\n",
    "\n",
    "def get_sql_type(dtype):\n",
    "    if pd.api.types.is_integer_dtype(dtype):\n",
    "        return 'INT'\n",
    "    elif pd.api.types.is_float_dtype(dtype):\n",
    "        return 'FLOAT'\n",
    "    elif pd.api.types.is_bool_dtype(dtype):\n",
    "        return 'BOOLEAN'\n",
    "    elif pd.api.types.is_datetime64_any_dtype(dtype):\n",
    "        return 'DATETIME'\n",
    "    else:\n",
    "        return 'TEXT'\n",
    "\n",
    "for csv_file, table_name in csv_files:\n",
    "    file_path = os.path.join(folder_path, csv_file)\n",
    "    \n",
    "    # Read the CSV file into a pandas DataFrame\n",
    "    df = pd.read_csv(file_path)\n",
    "    \n",
    "    # Replace NaN with None to handle SQL NULL\n",
    "    df = df.where(pd.notnull(df), None)\n",
    "    \n",
    "    # Debugging: Check for NaN values\n",
    "    print(f\"Processing {csv_file}\")\n",
    "    print(f\"NaN values before replacement:\\n{df.isnull().sum()}\\n\")\n",
    "\n",
    "    # Clean column names\n",
    "    df.columns = [col.replace(' ', '_').replace('-', '_').replace('.', '_') for col in df.columns]\n",
    "\n",
    "    # Generate the CREATE TABLE statement with appropriate data types\n",
    "    columns = ', '.join([f'`{col}` {get_sql_type(df[col].dtype)}' for col in df.columns])\n",
    "    create_table_query = f'CREATE TABLE IF NOT EXISTS `{table_name}` ({columns})'\n",
    "    cursor.execute(create_table_query)\n",
    "\n",
    "    # Insert DataFrame data into the MySQL table\n",
    "    for _, row in df.iterrows():\n",
    "        # Convert row to tuple and handle NaN/None explicitly\n",
    "        values = tuple(None if pd.isna(x) else x for x in row)\n",
    "        sql = f\"INSERT INTO `{table_name}` ({', '.join(['`' + col + '`' for col in df.columns])}) VALUES ({', '.join(['%s'] * len(row))})\"\n",
    "        cursor.execute(sql, values)\n",
    "\n",
    "    # Commit the transaction for the current CSV file\n",
    "    conn.commit()\n",
    "\n",
    "# Close the connection\n",
    "conn.close()"
   ]
  },
  {
   "cell_type": "code",
   "execution_count": null,
   "id": "302a77f8-9ed7-4203-815c-b2dba4fdc888",
   "metadata": {},
   "outputs": [],
   "source": [
    "pip install pandas"
   ]
  },
  {
   "cell_type": "code",
   "execution_count": 4,
   "id": "fafd8cff-7876-4a37-8562-4114dae75a02",
   "metadata": {},
   "outputs": [
    {
     "name": "stdout",
     "output_type": "stream",
     "text": [
      "Collecting mysql-connector-python\n",
      "  Downloading mysql_connector_python-9.0.0-cp312-cp312-win_amd64.whl.metadata (2.0 kB)\n",
      "Downloading mysql_connector_python-9.0.0-cp312-cp312-win_amd64.whl (14.3 MB)\n",
      "   ---------------------------------------- 0.0/14.3 MB ? eta -:--:--\n",
      "   ---------------------------------------- 0.0/14.3 MB ? eta -:--:--\n",
      "    --------------------------------------- 0.3/14.3 MB ? eta -:--:--\n",
      "    --------------------------------------- 0.3/14.3 MB ? eta -:--:--\n",
      "   - -------------------------------------- 0.5/14.3 MB 762.0 kB/s eta 0:00:19\n",
      "   - -------------------------------------- 0.5/14.3 MB 762.0 kB/s eta 0:00:19\n",
      "   -- ------------------------------------- 0.8/14.3 MB 745.8 kB/s eta 0:00:19\n",
      "   -- ------------------------------------- 1.0/14.3 MB 751.1 kB/s eta 0:00:18\n",
      "   -- ------------------------------------- 1.0/14.3 MB 751.1 kB/s eta 0:00:18\n",
      "   --- ------------------------------------ 1.3/14.3 MB 745.8 kB/s eta 0:00:18\n",
      "   --- ------------------------------------ 1.3/14.3 MB 745.8 kB/s eta 0:00:18\n",
      "   ---- ----------------------------------- 1.6/14.3 MB 749.0 kB/s eta 0:00:18\n",
      "   ----- ---------------------------------- 1.8/14.3 MB 745.8 kB/s eta 0:00:17\n",
      "   ----- ---------------------------------- 1.8/14.3 MB 745.8 kB/s eta 0:00:17\n",
      "   ----- ---------------------------------- 2.1/14.3 MB 743.2 kB/s eta 0:00:17\n",
      "   ----- ---------------------------------- 2.1/14.3 MB 743.2 kB/s eta 0:00:17\n",
      "   ------ --------------------------------- 2.4/14.3 MB 741.6 kB/s eta 0:00:17\n",
      "   ------- -------------------------------- 2.6/14.3 MB 740.1 kB/s eta 0:00:16\n",
      "   ------- -------------------------------- 2.6/14.3 MB 740.1 kB/s eta 0:00:16\n",
      "   -------- ------------------------------- 2.9/14.3 MB 739.1 kB/s eta 0:00:16\n",
      "   -------- ------------------------------- 2.9/14.3 MB 739.1 kB/s eta 0:00:16\n",
      "   -------- ------------------------------- 3.1/14.3 MB 738.2 kB/s eta 0:00:16\n",
      "   --------- ------------------------------ 3.4/14.3 MB 737.4 kB/s eta 0:00:15\n",
      "   --------- ------------------------------ 3.4/14.3 MB 737.4 kB/s eta 0:00:15\n",
      "   ---------- ----------------------------- 3.7/14.3 MB 736.8 kB/s eta 0:00:15\n",
      "   ---------- ----------------------------- 3.7/14.3 MB 736.8 kB/s eta 0:00:15\n",
      "   ---------- ----------------------------- 3.9/14.3 MB 738.6 kB/s eta 0:00:15\n",
      "   ----------- ---------------------------- 4.2/14.3 MB 740.1 kB/s eta 0:00:14\n",
      "   ----------- ---------------------------- 4.2/14.3 MB 740.1 kB/s eta 0:00:14\n",
      "   ------------ --------------------------- 4.5/14.3 MB 739.5 kB/s eta 0:00:14\n",
      "   ------------ --------------------------- 4.5/14.3 MB 739.5 kB/s eta 0:00:14\n",
      "   ------------- -------------------------- 4.7/14.3 MB 738.9 kB/s eta 0:00:14\n",
      "   ------------- -------------------------- 5.0/14.3 MB 740.2 kB/s eta 0:00:13\n",
      "   ------------- -------------------------- 5.0/14.3 MB 740.2 kB/s eta 0:00:13\n",
      "   -------------- ------------------------- 5.2/14.3 MB 739.6 kB/s eta 0:00:13\n",
      "   -------------- ------------------------- 5.2/14.3 MB 739.6 kB/s eta 0:00:13\n",
      "   --------------- ------------------------ 5.5/14.3 MB 739.1 kB/s eta 0:00:12\n",
      "   --------------- ------------------------ 5.5/14.3 MB 739.1 kB/s eta 0:00:12\n",
      "   ---------------- ----------------------- 5.8/14.3 MB 738.6 kB/s eta 0:00:12\n",
      "   ---------------- ----------------------- 6.0/14.3 MB 738.1 kB/s eta 0:00:12\n",
      "   ---------------- ----------------------- 6.0/14.3 MB 738.1 kB/s eta 0:00:12\n",
      "   ----------------- ---------------------- 6.3/14.3 MB 739.2 kB/s eta 0:00:11\n",
      "   ----------------- ---------------------- 6.3/14.3 MB 739.2 kB/s eta 0:00:11\n",
      "   ------------------ --------------------- 6.6/14.3 MB 738.8 kB/s eta 0:00:11\n",
      "   ------------------- -------------------- 6.8/14.3 MB 738.4 kB/s eta 0:00:11\n",
      "   ------------------- -------------------- 6.8/14.3 MB 738.4 kB/s eta 0:00:11\n",
      "   ------------------- -------------------- 7.1/14.3 MB 739.3 kB/s eta 0:00:10\n",
      "   ------------------- -------------------- 7.1/14.3 MB 739.3 kB/s eta 0:00:10\n",
      "   -------------------- ------------------- 7.3/14.3 MB 739.0 kB/s eta 0:00:10\n",
      "   --------------------- ------------------ 7.6/14.3 MB 738.6 kB/s eta 0:00:10\n",
      "   --------------------- ------------------ 7.6/14.3 MB 738.6 kB/s eta 0:00:10\n",
      "   --------------------- ------------------ 7.9/14.3 MB 738.3 kB/s eta 0:00:09\n",
      "   --------------------- ------------------ 7.9/14.3 MB 738.3 kB/s eta 0:00:09\n",
      "   ---------------------- ----------------- 8.1/14.3 MB 738.0 kB/s eta 0:00:09\n",
      "   ----------------------- ---------------- 8.4/14.3 MB 737.7 kB/s eta 0:00:09\n",
      "   ----------------------- ---------------- 8.4/14.3 MB 737.7 kB/s eta 0:00:09\n",
      "   ------------------------ --------------- 8.7/14.3 MB 737.5 kB/s eta 0:00:08\n",
      "   ------------------------ --------------- 8.7/14.3 MB 737.5 kB/s eta 0:00:08\n",
      "   ------------------------ --------------- 8.9/14.3 MB 737.2 kB/s eta 0:00:08\n",
      "   ------------------------- -------------- 9.2/14.3 MB 737.9 kB/s eta 0:00:08\n",
      "   ------------------------- -------------- 9.2/14.3 MB 737.9 kB/s eta 0:00:08\n",
      "   -------------------------- ------------- 9.4/14.3 MB 738.6 kB/s eta 0:00:07\n",
      "   -------------------------- ------------- 9.4/14.3 MB 738.6 kB/s eta 0:00:07\n",
      "   --------------------------- ------------ 9.7/14.3 MB 738.4 kB/s eta 0:00:07\n",
      "   --------------------------- ------------ 10.0/14.3 MB 739.0 kB/s eta 0:00:06\n",
      "   --------------------------- ------------ 10.0/14.3 MB 739.0 kB/s eta 0:00:06\n",
      "   ---------------------------- ----------- 10.2/14.3 MB 738.8 kB/s eta 0:00:06\n",
      "   ---------------------------- ----------- 10.2/14.3 MB 738.8 kB/s eta 0:00:06\n",
      "   ----------------------------- ---------- 10.5/14.3 MB 738.5 kB/s eta 0:00:06\n",
      "   ----------------------------- ---------- 10.7/14.3 MB 738.3 kB/s eta 0:00:05\n",
      "   ----------------------------- ---------- 10.7/14.3 MB 738.3 kB/s eta 0:00:05\n",
      "   ------------------------------ --------- 11.0/14.3 MB 738.8 kB/s eta 0:00:05\n",
      "   ------------------------------ --------- 11.0/14.3 MB 738.8 kB/s eta 0:00:05\n",
      "   ------------------------------- -------- 11.3/14.3 MB 738.6 kB/s eta 0:00:05\n",
      "   ------------------------------- -------- 11.3/14.3 MB 738.6 kB/s eta 0:00:05\n",
      "   -------------------------------- ------- 11.5/14.3 MB 738.4 kB/s eta 0:00:04\n",
      "   -------------------------------- ------- 11.8/14.3 MB 738.2 kB/s eta 0:00:04\n",
      "   -------------------------------- ------- 11.8/14.3 MB 738.2 kB/s eta 0:00:04\n",
      "   --------------------------------- ------ 12.1/14.3 MB 736.5 kB/s eta 0:00:04\n",
      "   --------------------------------- ------ 12.1/14.3 MB 736.5 kB/s eta 0:00:04\n",
      "   ---------------------------------- ----- 12.3/14.3 MB 736.4 kB/s eta 0:00:03\n",
      "   ---------------------------------- ----- 12.3/14.3 MB 736.4 kB/s eta 0:00:03\n",
      "   ----------------------------------- ---- 12.6/14.3 MB 736.3 kB/s eta 0:00:03\n",
      "   ----------------------------------- ---- 12.8/14.3 MB 736.8 kB/s eta 0:00:03\n",
      "   ----------------------------------- ---- 12.8/14.3 MB 736.8 kB/s eta 0:00:03\n",
      "   ------------------------------------ --- 13.1/14.3 MB 736.6 kB/s eta 0:00:02\n",
      "   ------------------------------------ --- 13.1/14.3 MB 736.6 kB/s eta 0:00:02\n",
      "   ------------------------------------- -- 13.4/14.3 MB 736.5 kB/s eta 0:00:02\n",
      "   -------------------------------------- - 13.6/14.3 MB 736.4 kB/s eta 0:00:01\n",
      "   -------------------------------------- - 13.6/14.3 MB 736.4 kB/s eta 0:00:01\n",
      "   -------------------------------------- - 13.9/14.3 MB 736.2 kB/s eta 0:00:01\n",
      "   -------------------------------------- - 13.9/14.3 MB 736.2 kB/s eta 0:00:01\n",
      "   ---------------------------------------  14.2/14.3 MB 736.7 kB/s eta 0:00:01\n",
      "   ---------------------------------------- 14.3/14.3 MB 735.6 kB/s eta 0:00:00\n",
      "Installing collected packages: mysql-connector-python\n",
      "Successfully installed mysql-connector-python-9.0.0\n",
      "Note: you may need to restart the kernel to use updated packages.\n"
     ]
    }
   ],
   "source": [
    "pip install mysql-connector-python"
   ]
  },
  {
   "cell_type": "code",
   "execution_count": 5,
   "id": "ae3a00bd-d9ff-4516-8d88-178369de3a76",
   "metadata": {},
   "outputs": [
    {
     "name": "stdout",
     "output_type": "stream",
     "text": [
      "Requirement already satisfied: numpy in c:\\users\\aditya\\appdata\\local\\programs\\python\\python312\\lib\\site-packages (2.0.1)\n",
      "Note: you may need to restart the kernel to use updated packages.\n"
     ]
    }
   ],
   "source": [
    "pip install numpy"
   ]
  },
  {
   "cell_type": "code",
   "execution_count": 6,
   "id": "2b66aeca-172c-4ea0-b122-9c00d81149db",
   "metadata": {},
   "outputs": [
    {
     "name": "stdout",
     "output_type": "stream",
     "text": [
      "Collecting seaborn\n",
      "  Downloading seaborn-0.13.2-py3-none-any.whl.metadata (5.4 kB)\n",
      "Requirement already satisfied: numpy!=1.24.0,>=1.20 in c:\\users\\aditya\\appdata\\local\\programs\\python\\python312\\lib\\site-packages (from seaborn) (2.0.1)\n",
      "Requirement already satisfied: pandas>=1.2 in c:\\users\\aditya\\appdata\\local\\programs\\python\\python312\\lib\\site-packages (from seaborn) (2.2.2)\n",
      "Collecting matplotlib!=3.6.1,>=3.4 (from seaborn)\n",
      "  Downloading matplotlib-3.9.1-cp312-cp312-win_amd64.whl.metadata (11 kB)\n",
      "Collecting contourpy>=1.0.1 (from matplotlib!=3.6.1,>=3.4->seaborn)\n",
      "  Downloading contourpy-1.2.1-cp312-cp312-win_amd64.whl.metadata (5.8 kB)\n",
      "Collecting cycler>=0.10 (from matplotlib!=3.6.1,>=3.4->seaborn)\n",
      "  Downloading cycler-0.12.1-py3-none-any.whl.metadata (3.8 kB)\n",
      "Collecting fonttools>=4.22.0 (from matplotlib!=3.6.1,>=3.4->seaborn)\n",
      "  Downloading fonttools-4.53.1-cp312-cp312-win_amd64.whl.metadata (165 kB)\n",
      "Collecting kiwisolver>=1.3.1 (from matplotlib!=3.6.1,>=3.4->seaborn)\n",
      "  Downloading kiwisolver-1.4.5-cp312-cp312-win_amd64.whl.metadata (6.5 kB)\n",
      "Requirement already satisfied: packaging>=20.0 in c:\\users\\aditya\\appdata\\local\\programs\\python\\python312\\lib\\site-packages (from matplotlib!=3.6.1,>=3.4->seaborn) (24.1)\n",
      "Collecting pillow>=8 (from matplotlib!=3.6.1,>=3.4->seaborn)\n",
      "  Downloading pillow-10.4.0-cp312-cp312-win_amd64.whl.metadata (9.3 kB)\n",
      "Collecting pyparsing>=2.3.1 (from matplotlib!=3.6.1,>=3.4->seaborn)\n",
      "  Downloading pyparsing-3.1.2-py3-none-any.whl.metadata (5.1 kB)\n",
      "Requirement already satisfied: python-dateutil>=2.7 in c:\\users\\aditya\\appdata\\local\\programs\\python\\python312\\lib\\site-packages (from matplotlib!=3.6.1,>=3.4->seaborn) (2.9.0.post0)\n",
      "Requirement already satisfied: pytz>=2020.1 in c:\\users\\aditya\\appdata\\local\\programs\\python\\python312\\lib\\site-packages (from pandas>=1.2->seaborn) (2024.1)\n",
      "Requirement already satisfied: tzdata>=2022.7 in c:\\users\\aditya\\appdata\\local\\programs\\python\\python312\\lib\\site-packages (from pandas>=1.2->seaborn) (2024.1)\n",
      "Requirement already satisfied: six>=1.5 in c:\\users\\aditya\\appdata\\local\\programs\\python\\python312\\lib\\site-packages (from python-dateutil>=2.7->matplotlib!=3.6.1,>=3.4->seaborn) (1.16.0)\n",
      "Downloading seaborn-0.13.2-py3-none-any.whl (294 kB)\n",
      "Downloading matplotlib-3.9.1-cp312-cp312-win_amd64.whl (8.0 MB)\n",
      "   ---------------------------------------- 0.0/8.0 MB ? eta -:--:--\n",
      "   ---------------------------------------- 0.0/8.0 MB ? eta -:--:--\n",
      "   - -------------------------------------- 0.3/8.0 MB ? eta -:--:--\n",
      "   - -------------------------------------- 0.3/8.0 MB ? eta -:--:--\n",
      "   -- ------------------------------------- 0.5/8.0 MB 730.2 kB/s eta 0:00:11\n",
      "   -- ------------------------------------- 0.5/8.0 MB 730.2 kB/s eta 0:00:11\n",
      "   --- ------------------------------------ 0.8/8.0 MB 730.2 kB/s eta 0:00:10\n",
      "   --- ------------------------------------ 0.8/8.0 MB 730.2 kB/s eta 0:00:10\n",
      "   ----- ---------------------------------- 1.0/8.0 MB 719.5 kB/s eta 0:00:10\n",
      "   ------ --------------------------------- 1.3/8.0 MB 721.7 kB/s eta 0:00:10\n",
      "   ------ --------------------------------- 1.3/8.0 MB 721.7 kB/s eta 0:00:10\n",
      "   ------- -------------------------------- 1.6/8.0 MB 676.7 kB/s eta 0:00:10\n",
      "   ------- -------------------------------- 1.6/8.0 MB 676.7 kB/s eta 0:00:10\n",
      "   --------- ------------------------------ 1.8/8.0 MB 694.4 kB/s eta 0:00:09\n",
      "   ---------- ----------------------------- 2.1/8.0 MB 729.6 kB/s eta 0:00:09\n",
      "   ---------- ----------------------------- 2.1/8.0 MB 729.6 kB/s eta 0:00:09\n",
      "   ----------- ---------------------------- 2.4/8.0 MB 729.4 kB/s eta 0:00:08\n",
      "   ----------- ---------------------------- 2.4/8.0 MB 729.4 kB/s eta 0:00:08\n",
      "   ------------- -------------------------- 2.6/8.0 MB 733.2 kB/s eta 0:00:08\n",
      "   -------------- ------------------------- 2.9/8.0 MB 729.6 kB/s eta 0:00:07\n",
      "   -------------- ------------------------- 2.9/8.0 MB 729.6 kB/s eta 0:00:07\n",
      "   --------------- ------------------------ 3.1/8.0 MB 732.4 kB/s eta 0:00:07\n",
      "   --------------- ------------------------ 3.1/8.0 MB 732.4 kB/s eta 0:00:07\n",
      "   ----------------- ---------------------- 3.4/8.0 MB 732.1 kB/s eta 0:00:07\n",
      "   ------------------ --------------------- 3.7/8.0 MB 731.9 kB/s eta 0:00:06\n",
      "   ------------------ --------------------- 3.7/8.0 MB 731.9 kB/s eta 0:00:06\n",
      "   ------------------- -------------------- 3.9/8.0 MB 731.8 kB/s eta 0:00:06\n",
      "   ------------------- -------------------- 3.9/8.0 MB 731.8 kB/s eta 0:00:06\n",
      "   --------------------- ------------------ 4.2/8.0 MB 733.7 kB/s eta 0:00:06\n",
      "   ---------------------- ----------------- 4.5/8.0 MB 733.5 kB/s eta 0:00:05\n",
      "   ---------------------- ----------------- 4.5/8.0 MB 733.5 kB/s eta 0:00:05\n",
      "   ----------------------- ---------------- 4.7/8.0 MB 735.1 kB/s eta 0:00:05\n",
      "   ----------------------- ---------------- 4.7/8.0 MB 735.1 kB/s eta 0:00:05\n",
      "   ------------------------ --------------- 5.0/8.0 MB 734.8 kB/s eta 0:00:05\n",
      "   -------------------------- ------------- 5.2/8.0 MB 734.5 kB/s eta 0:00:04\n",
      "   -------------------------- ------------- 5.2/8.0 MB 734.5 kB/s eta 0:00:04\n",
      "   --------------------------- ------------ 5.5/8.0 MB 735.8 kB/s eta 0:00:04\n",
      "   --------------------------- ------------ 5.5/8.0 MB 735.8 kB/s eta 0:00:04\n",
      "   ---------------------------- ----------- 5.8/8.0 MB 735.6 kB/s eta 0:00:04\n",
      "   ------------------------------ --------- 6.0/8.0 MB 733.8 kB/s eta 0:00:03\n",
      "   ------------------------------ --------- 6.0/8.0 MB 733.8 kB/s eta 0:00:03\n",
      "   ------------------------------- -------- 6.3/8.0 MB 733.7 kB/s eta 0:00:03\n",
      "   ------------------------------- -------- 6.3/8.0 MB 733.7 kB/s eta 0:00:03\n",
      "   -------------------------------- ------- 6.6/8.0 MB 734.8 kB/s eta 0:00:02\n",
      "   ---------------------------------- ----- 6.8/8.0 MB 734.5 kB/s eta 0:00:02\n",
      "   ---------------------------------- ----- 6.8/8.0 MB 734.5 kB/s eta 0:00:02\n",
      "   ----------------------------------- ---- 7.1/8.0 MB 734.4 kB/s eta 0:00:02\n",
      "   ----------------------------------- ---- 7.1/8.0 MB 734.4 kB/s eta 0:00:02\n",
      "   ------------------------------------ --- 7.3/8.0 MB 729.5 kB/s eta 0:00:01\n",
      "   -------------------------------------- - 7.6/8.0 MB 735.2 kB/s eta 0:00:01\n",
      "   -------------------------------------- - 7.6/8.0 MB 735.2 kB/s eta 0:00:01\n",
      "   ---------------------------------------  7.9/8.0 MB 735.0 kB/s eta 0:00:01\n",
      "   ---------------------------------------- 8.0/8.0 MB 734.5 kB/s eta 0:00:00\n",
      "Downloading contourpy-1.2.1-cp312-cp312-win_amd64.whl (189 kB)\n",
      "Downloading cycler-0.12.1-py3-none-any.whl (8.3 kB)\n",
      "Downloading fonttools-4.53.1-cp312-cp312-win_amd64.whl (2.2 MB)\n",
      "   ---------------------------------------- 0.0/2.2 MB ? eta -:--:--\n",
      "   ---------------------------------------- 0.0/2.2 MB ? eta -:--:--\n",
      "   ---- ----------------------------------- 0.3/2.2 MB ? eta -:--:--\n",
      "   ---- ----------------------------------- 0.3/2.2 MB ? eta -:--:--\n",
      "   --------- ------------------------------ 0.5/2.2 MB 762.0 kB/s eta 0:00:03\n",
      "   --------- ------------------------------ 0.5/2.2 MB 762.0 kB/s eta 0:00:03\n",
      "   -------------- ------------------------- 0.8/2.2 MB 744.7 kB/s eta 0:00:02\n",
      "   ------------------- -------------------- 1.0/2.2 MB 739.8 kB/s eta 0:00:02\n",
      "   ------------------- -------------------- 1.0/2.2 MB 739.8 kB/s eta 0:00:02\n",
      "   ----------------------- ---------------- 1.3/2.2 MB 745.3 kB/s eta 0:00:02\n",
      "   ----------------------- ---------------- 1.3/2.2 MB 745.3 kB/s eta 0:00:02\n",
      "   ---------------------------- ----------- 1.6/2.2 MB 742.2 kB/s eta 0:00:01\n",
      "   --------------------------------- ------ 1.8/2.2 MB 734.6 kB/s eta 0:00:01\n",
      "   --------------------------------- ------ 1.8/2.2 MB 734.6 kB/s eta 0:00:01\n",
      "   -------------------------------------- - 2.1/2.2 MB 738.4 kB/s eta 0:00:01\n",
      "   ---------------------------------------- 2.2/2.2 MB 739.9 kB/s eta 0:00:00\n",
      "Downloading kiwisolver-1.4.5-cp312-cp312-win_amd64.whl (56 kB)\n",
      "Downloading pillow-10.4.0-cp312-cp312-win_amd64.whl (2.6 MB)\n",
      "   ---------------------------------------- 0.0/2.6 MB ? eta -:--:--\n",
      "   ---------------------------------------- 0.0/2.6 MB ? eta -:--:--\n",
      "   ---- ----------------------------------- 0.3/2.6 MB ? eta -:--:--\n",
      "   ---- ----------------------------------- 0.3/2.6 MB ? eta -:--:--\n",
      "   -------- ------------------------------- 0.5/2.6 MB 730.2 kB/s eta 0:00:03\n",
      "   -------- ------------------------------- 0.5/2.6 MB 730.2 kB/s eta 0:00:03\n",
      "   ------------ --------------------------- 0.8/2.6 MB 745.8 kB/s eta 0:00:03\n",
      "   ------------ --------------------------- 0.8/2.6 MB 745.8 kB/s eta 0:00:03\n",
      "   ---------------- ----------------------- 1.0/2.6 MB 729.5 kB/s eta 0:00:03\n",
      "   ---------------- ----------------------- 1.0/2.6 MB 729.5 kB/s eta 0:00:03\n",
      "   -------------------- ------------------- 1.3/2.6 MB 721.7 kB/s eta 0:00:02\n",
      "   ------------------------ --------------- 1.6/2.6 MB 735.9 kB/s eta 0:00:02\n",
      "   ------------------------ --------------- 1.6/2.6 MB 735.9 kB/s eta 0:00:02\n",
      "   ---------------------------- ----------- 1.8/2.6 MB 734.6 kB/s eta 0:00:01\n",
      "   -------------------------------- ------- 2.1/2.6 MB 734.0 kB/s eta 0:00:01\n",
      "   -------------------------------- ------- 2.1/2.6 MB 734.0 kB/s eta 0:00:01\n",
      "   ------------------------------------ --- 2.4/2.6 MB 737.4 kB/s eta 0:00:01\n",
      "   ---------------------------------------- 2.6/2.6 MB 733.7 kB/s eta 0:00:00\n",
      "Downloading pyparsing-3.1.2-py3-none-any.whl (103 kB)\n",
      "Installing collected packages: pyparsing, pillow, kiwisolver, fonttools, cycler, contourpy, matplotlib, seaborn\n",
      "Successfully installed contourpy-1.2.1 cycler-0.12.1 fonttools-4.53.1 kiwisolver-1.4.5 matplotlib-3.9.1 pillow-10.4.0 pyparsing-3.1.2 seaborn-0.13.2\n",
      "Note: you may need to restart the kernel to use updated packages.\n"
     ]
    }
   ],
   "source": [
    "pip install seaborn"
   ]
  },
  {
   "cell_type": "code",
   "execution_count": 7,
   "id": "2345781f-b75e-4e48-918d-d42369a2d972",
   "metadata": {},
   "outputs": [
    {
     "name": "stdout",
     "output_type": "stream",
     "text": [
      "Requirement already satisfied: matplotlib in c:\\users\\aditya\\appdata\\local\\programs\\python\\python312\\lib\\site-packages (3.9.1)\n",
      "Requirement already satisfied: contourpy>=1.0.1 in c:\\users\\aditya\\appdata\\local\\programs\\python\\python312\\lib\\site-packages (from matplotlib) (1.2.1)\n",
      "Requirement already satisfied: cycler>=0.10 in c:\\users\\aditya\\appdata\\local\\programs\\python\\python312\\lib\\site-packages (from matplotlib) (0.12.1)\n",
      "Requirement already satisfied: fonttools>=4.22.0 in c:\\users\\aditya\\appdata\\local\\programs\\python\\python312\\lib\\site-packages (from matplotlib) (4.53.1)\n",
      "Requirement already satisfied: kiwisolver>=1.3.1 in c:\\users\\aditya\\appdata\\local\\programs\\python\\python312\\lib\\site-packages (from matplotlib) (1.4.5)\n",
      "Requirement already satisfied: numpy>=1.23 in c:\\users\\aditya\\appdata\\local\\programs\\python\\python312\\lib\\site-packages (from matplotlib) (2.0.1)\n",
      "Requirement already satisfied: packaging>=20.0 in c:\\users\\aditya\\appdata\\local\\programs\\python\\python312\\lib\\site-packages (from matplotlib) (24.1)\n",
      "Requirement already satisfied: pillow>=8 in c:\\users\\aditya\\appdata\\local\\programs\\python\\python312\\lib\\site-packages (from matplotlib) (10.4.0)\n",
      "Requirement already satisfied: pyparsing>=2.3.1 in c:\\users\\aditya\\appdata\\local\\programs\\python\\python312\\lib\\site-packages (from matplotlib) (3.1.2)\n",
      "Requirement already satisfied: python-dateutil>=2.7 in c:\\users\\aditya\\appdata\\local\\programs\\python\\python312\\lib\\site-packages (from matplotlib) (2.9.0.post0)\n",
      "Requirement already satisfied: six>=1.5 in c:\\users\\aditya\\appdata\\local\\programs\\python\\python312\\lib\\site-packages (from python-dateutil>=2.7->matplotlib) (1.16.0)\n",
      "Note: you may need to restart the kernel to use updated packages.\n"
     ]
    }
   ],
   "source": [
    "pip install matplotlib"
   ]
  },
  {
   "cell_type": "code",
   "execution_count": 12,
   "id": "36e49bea-aba3-4f55-97de-c271ea208a72",
   "metadata": {},
   "outputs": [],
   "source": [
    "import pandas as pd\n",
    "import matplotlib.pyplot as plt\n",
    "import seaborn as sns\n",
    "import mysql.connector\n",
    "import numpy as np\n",
    "\n",
    "\n",
    "db = mysql.connector.connect(host = \"localhost\",\n",
    "                            username = \"root\",\n",
    "                            password = \"Simba@0311\",\n",
    "                            database = \"ecommerce\")\n",
    "\n",
    "cur = db.cursor()"
   ]
  },
  {
   "cell_type": "markdown",
   "id": "ab01be94-c8f1-4953-819c-b379b45fa1cb",
   "metadata": {},
   "source": [
    "# BASIC QUERIES :"
   ]
  },
  {
   "cell_type": "markdown",
   "id": "41ff392d-8bf8-406c-ac9c-bd392e6bf488",
   "metadata": {
    "jp-MarkdownHeadingCollapsed": true
   },
   "source": [
    "# List all unique cities where customers are located."
   ]
  },
  {
   "cell_type": "code",
   "execution_count": 9,
   "id": "f128f2c1-2579-458c-a7e5-3738feadbbca",
   "metadata": {},
   "outputs": [
    {
     "data": {
      "text/html": [
       "<div>\n",
       "<style scoped>\n",
       "    .dataframe tbody tr th:only-of-type {\n",
       "        vertical-align: middle;\n",
       "    }\n",
       "\n",
       "    .dataframe tbody tr th {\n",
       "        vertical-align: top;\n",
       "    }\n",
       "\n",
       "    .dataframe thead th {\n",
       "        text-align: right;\n",
       "    }\n",
       "</style>\n",
       "<table border=\"1\" class=\"dataframe\">\n",
       "  <thead>\n",
       "    <tr style=\"text-align: right;\">\n",
       "      <th></th>\n",
       "      <th>0</th>\n",
       "    </tr>\n",
       "  </thead>\n",
       "  <tbody>\n",
       "    <tr>\n",
       "      <th>0</th>\n",
       "      <td>franca</td>\n",
       "    </tr>\n",
       "    <tr>\n",
       "      <th>1</th>\n",
       "      <td>sao bernardo do campo</td>\n",
       "    </tr>\n",
       "    <tr>\n",
       "      <th>2</th>\n",
       "      <td>sao paulo</td>\n",
       "    </tr>\n",
       "    <tr>\n",
       "      <th>3</th>\n",
       "      <td>mogi das cruzes</td>\n",
       "    </tr>\n",
       "    <tr>\n",
       "      <th>4</th>\n",
       "      <td>campinas</td>\n",
       "    </tr>\n",
       "  </tbody>\n",
       "</table>\n",
       "</div>"
      ],
      "text/plain": [
       "                       0\n",
       "0                 franca\n",
       "1  sao bernardo do campo\n",
       "2              sao paulo\n",
       "3        mogi das cruzes\n",
       "4               campinas"
      ]
     },
     "execution_count": 9,
     "metadata": {},
     "output_type": "execute_result"
    }
   ],
   "source": [
    "query = \"\"\" select distinct customer_city from customers \"\"\"\n",
    "\n",
    "cur.execute(query)\n",
    "\n",
    "data = cur.fetchall()\n",
    "\n",
    "df = pd.DataFrame(data)\n",
    "df.head()"
   ]
  },
  {
   "cell_type": "markdown",
   "id": "34219016-9f6d-4d81-a36f-7e4aea31bb52",
   "metadata": {
    "jp-MarkdownHeadingCollapsed": true
   },
   "source": [
    "# Count the number of orders placed in 2017."
   ]
  },
  {
   "cell_type": "code",
   "execution_count": 5,
   "id": "1a10d756-ce85-47f3-871b-dca2dcce73cc",
   "metadata": {},
   "outputs": [
    {
     "data": {
      "text/plain": [
       "('The Total Orders Placed In 2017 Are', 45101)"
      ]
     },
     "execution_count": 5,
     "metadata": {},
     "output_type": "execute_result"
    }
   ],
   "source": [
    "query = \"\"\" select count(order_id) from orders where year(order_purchase_timestamp) = 2017 \"\"\"\n",
    "\n",
    "cur.execute(query)\n",
    "\n",
    "data = cur.fetchall()\n",
    "\n",
    "\"The Total Orders Placed In 2017 Are\", data[0][0]"
   ]
  },
  {
   "cell_type": "markdown",
   "id": "5e7dfc54-2460-4332-a0fe-baaf194c11dc",
   "metadata": {
    "jp-MarkdownHeadingCollapsed": true
   },
   "source": [
    "# Find the total sales per category."
   ]
  },
  {
   "cell_type": "code",
   "execution_count": 6,
   "id": "c2c0e1e3-7beb-437a-90b9-ed820429254c",
   "metadata": {},
   "outputs": [
    {
     "data": {
      "text/html": [
       "<div>\n",
       "<style scoped>\n",
       "    .dataframe tbody tr th:only-of-type {\n",
       "        vertical-align: middle;\n",
       "    }\n",
       "\n",
       "    .dataframe tbody tr th {\n",
       "        vertical-align: top;\n",
       "    }\n",
       "\n",
       "    .dataframe thead th {\n",
       "        text-align: right;\n",
       "    }\n",
       "</style>\n",
       "<table border=\"1\" class=\"dataframe\">\n",
       "  <thead>\n",
       "    <tr style=\"text-align: right;\">\n",
       "      <th></th>\n",
       "      <th>Category</th>\n",
       "      <th>Sales</th>\n",
       "    </tr>\n",
       "  </thead>\n",
       "  <tbody>\n",
       "    <tr>\n",
       "      <th>0</th>\n",
       "      <td>PERFUMERY</td>\n",
       "      <td>506738.66</td>\n",
       "    </tr>\n",
       "    <tr>\n",
       "      <th>1</th>\n",
       "      <td>FURNITURE DECORATION</td>\n",
       "      <td>1430176.39</td>\n",
       "    </tr>\n",
       "    <tr>\n",
       "      <th>2</th>\n",
       "      <td>TELEPHONY</td>\n",
       "      <td>486882.05</td>\n",
       "    </tr>\n",
       "    <tr>\n",
       "      <th>3</th>\n",
       "      <td>BED TABLE BATH</td>\n",
       "      <td>1712553.67</td>\n",
       "    </tr>\n",
       "    <tr>\n",
       "      <th>4</th>\n",
       "      <td>AUTOMOTIVE</td>\n",
       "      <td>852294.33</td>\n",
       "    </tr>\n",
       "    <tr>\n",
       "      <th>...</th>\n",
       "      <td>...</td>\n",
       "      <td>...</td>\n",
       "    </tr>\n",
       "    <tr>\n",
       "      <th>69</th>\n",
       "      <td>CDS MUSIC DVDS</td>\n",
       "      <td>1199.43</td>\n",
       "    </tr>\n",
       "    <tr>\n",
       "      <th>70</th>\n",
       "      <td>LA CUISINE</td>\n",
       "      <td>2913.53</td>\n",
       "    </tr>\n",
       "    <tr>\n",
       "      <th>71</th>\n",
       "      <td>FASHION CHILDREN'S CLOTHING</td>\n",
       "      <td>785.67</td>\n",
       "    </tr>\n",
       "    <tr>\n",
       "      <th>72</th>\n",
       "      <td>PC GAMER</td>\n",
       "      <td>2174.43</td>\n",
       "    </tr>\n",
       "    <tr>\n",
       "      <th>73</th>\n",
       "      <td>INSURANCE AND SERVICES</td>\n",
       "      <td>324.51</td>\n",
       "    </tr>\n",
       "  </tbody>\n",
       "</table>\n",
       "<p>74 rows × 2 columns</p>\n",
       "</div>"
      ],
      "text/plain": [
       "                       Category       Sales\n",
       "0                     PERFUMERY   506738.66\n",
       "1          FURNITURE DECORATION  1430176.39\n",
       "2                     TELEPHONY   486882.05\n",
       "3                BED TABLE BATH  1712553.67\n",
       "4                    AUTOMOTIVE   852294.33\n",
       "..                          ...         ...\n",
       "69               CDS MUSIC DVDS     1199.43\n",
       "70                   LA CUISINE     2913.53\n",
       "71  FASHION CHILDREN'S CLOTHING      785.67\n",
       "72                     PC GAMER     2174.43\n",
       "73       INSURANCE AND SERVICES      324.51\n",
       "\n",
       "[74 rows x 2 columns]"
      ]
     },
     "execution_count": 6,
     "metadata": {},
     "output_type": "execute_result"
    }
   ],
   "source": [
    "query = \"\"\" select upper(products.product_category) category, \n",
    "round(sum(payments.payment_value),2) sales\n",
    "from products join order_items \n",
    "on products.product_id = order_items.product_id\n",
    "join payments \n",
    "on payments.order_id = order_items.order_id\n",
    "group by category\n",
    "\"\"\"\n",
    "\n",
    "cur.execute(query)\n",
    "\n",
    "data = cur.fetchall()\n",
    "\n",
    "df = pd.DataFrame(data, columns = [\"Category\", \"Sales\"])\n",
    "df"
   ]
  },
  {
   "cell_type": "markdown",
   "id": "63de38c0-4642-41d9-b76f-449a85c1d9e4",
   "metadata": {
    "jp-MarkdownHeadingCollapsed": true
   },
   "source": [
    "# Calculate the percentage of orders that were paid in installments."
   ]
  },
  {
   "cell_type": "code",
   "execution_count": 3,
   "id": "87612031-b11b-42ae-bab1-83a41ea16b1e",
   "metadata": {},
   "outputs": [
    {
     "data": {
      "text/plain": [
       "('The percentage of orders that were paid in installments is',\n",
       " Decimal('99.9981'))"
      ]
     },
     "execution_count": 3,
     "metadata": {},
     "output_type": "execute_result"
    }
   ],
   "source": [
    "query = \"\"\" select ((sum(case when payment_installments >= 1 then 1\n",
    "else 0 end))/count(*))*100 from payments\n",
    "\"\"\"\n",
    "\n",
    "cur.execute(query)\n",
    "\n",
    "data = cur.fetchall()\n",
    "\n",
    "\"The percentage of orders that were paid in installments is\", data[0][0]"
   ]
  },
  {
   "cell_type": "markdown",
   "id": "934dae33-45ac-427c-9436-d327bd5e7eb5",
   "metadata": {
    "jp-MarkdownHeadingCollapsed": true
   },
   "source": [
    "# Count the number of customers from each state."
   ]
  },
  {
   "cell_type": "code",
   "execution_count": 4,
   "id": "5c41c7f9-ae2c-4f14-99e7-583fcedefb16",
   "metadata": {},
   "outputs": [
    {
     "data": {
      "image/png": "[encoded data removed]",
      "text/plain": [
       "<Figure size 800x300 with 1 Axes>"
      ]
     },
     "metadata": {},
     "output_type": "display_data"
    }
   ],
   "source": [
    "query = \"\"\" select customer_state ,count(customer_id)\n",
    "from customers group by customer_state\n",
    "\"\"\"\n",
    "\n",
    "cur.execute(query)\n",
    "\n",
    "data = cur.fetchall()\n",
    "df = pd.DataFrame(data, columns = [\"state\", \"customer_count\" ])\n",
    "df = df.sort_values(by = \"customer_count\", ascending= False)\n",
    "\n",
    "plt.figure(figsize = (8,3))\n",
    "plt.bar(df[\"state\"], df[\"customer_count\"])\n",
    "plt.xticks(rotation = 90)\n",
    "plt.xlabel(\"states\")\n",
    "plt.ylabel(\"customer_count\")\n",
    "plt.title(\"Count of Customers by States\")\n",
    "plt.show()"
   ]
  },
  {
   "cell_type": "markdown",
   "id": "c940fc6d-676a-4731-9111-c0276ac9a8fa",
   "metadata": {},
   "source": [
    "# INTERMEDIATE QUERIES"
   ]
  },
  {
   "cell_type": "markdown",
   "id": "5fcedda9-1126-4405-8cc1-40f8df2dcb12",
   "metadata": {
    "jp-MarkdownHeadingCollapsed": true
   },
   "source": [
    "# Calculate the number of orders per month in 2018."
   ]
  },
  {
   "cell_type": "code",
   "execution_count": 5,
   "id": "66154122-e3b3-4ba6-b6c1-cc17dc3360c6",
   "metadata": {},
   "outputs": [
    {
     "data": {
      "image/png": "[encoded data removed]",
      "text/plain": [
       "<Figure size 640x480 with 1 Axes>"
      ]
     },
     "metadata": {},
     "output_type": "display_data"
    }
   ],
   "source": [
    "query = \"\"\" select monthname(order_purchase_timestamp) months, count(order_id) order_count\n",
    "from orders where year(order_purchase_timestamp) = 2018\n",
    "group by months\n",
    "\"\"\"\n",
    "\n",
    "cur.execute(query)\n",
    "\n",
    "data = cur.fetchall()\n",
    "df = pd.DataFrame(data, columns = [\"months\", \"order_count\"])\n",
    "o = [\"January\", \"February\",\"March\",\"April\",\"May\",\"June\",\"July\",\"August\",\"September\",\"October\"]\n",
    "\n",
    "ax = sns.barplot(x = df[\"months\"],y =  df[\"order_count\"], data = df, order = o, color = \"red\")\n",
    "plt.xticks(rotation = 45)\n",
    "ax.bar_label(ax.containers[0])\n",
    "plt.title(\"Count of Orders by Months is 2018\")\n",
    "\n",
    "plt.show()"
   ]
  },
  {
   "cell_type": "markdown",
   "id": "189e5e65-6c6f-4042-acd8-056a81e32b90",
   "metadata": {
    "jp-MarkdownHeadingCollapsed": true
   },
   "source": [
    "# Find the average number of products per order, grouped by customer city."
   ]
  },
  {
   "cell_type": "code",
   "execution_count": 9,
   "id": "77b6ee92-5c1e-4fc0-bd8f-6cc267516462",
   "metadata": {},
   "outputs": [
    {
     "data": {
      "text/html": [
       "<div>\n",
       "<style scoped>\n",
       "    .dataframe tbody tr th:only-of-type {\n",
       "        vertical-align: middle;\n",
       "    }\n",
       "\n",
       "    .dataframe tbody tr th {\n",
       "        vertical-align: top;\n",
       "    }\n",
       "\n",
       "    .dataframe thead th {\n",
       "        text-align: right;\n",
       "    }\n",
       "</style>\n",
       "<table border=\"1\" class=\"dataframe\">\n",
       "  <thead>\n",
       "    <tr style=\"text-align: right;\">\n",
       "      <th></th>\n",
       "      <th>customer city</th>\n",
       "      <th>average products/order</th>\n",
       "    </tr>\n",
       "  </thead>\n",
       "  <tbody>\n",
       "    <tr>\n",
       "      <th>0</th>\n",
       "      <td>padre carvalho</td>\n",
       "      <td>28.00</td>\n",
       "    </tr>\n",
       "    <tr>\n",
       "      <th>1</th>\n",
       "      <td>celso ramos</td>\n",
       "      <td>26.00</td>\n",
       "    </tr>\n",
       "    <tr>\n",
       "      <th>2</th>\n",
       "      <td>datas</td>\n",
       "      <td>24.00</td>\n",
       "    </tr>\n",
       "    <tr>\n",
       "      <th>3</th>\n",
       "      <td>candido godoi</td>\n",
       "      <td>24.00</td>\n",
       "    </tr>\n",
       "    <tr>\n",
       "      <th>4</th>\n",
       "      <td>matias olimpio</td>\n",
       "      <td>20.00</td>\n",
       "    </tr>\n",
       "    <tr>\n",
       "      <th>5</th>\n",
       "      <td>cidelandia</td>\n",
       "      <td>16.00</td>\n",
       "    </tr>\n",
       "    <tr>\n",
       "      <th>6</th>\n",
       "      <td>curralinho</td>\n",
       "      <td>16.00</td>\n",
       "    </tr>\n",
       "    <tr>\n",
       "      <th>7</th>\n",
       "      <td>picarra</td>\n",
       "      <td>16.00</td>\n",
       "    </tr>\n",
       "    <tr>\n",
       "      <th>8</th>\n",
       "      <td>morro de sao paulo</td>\n",
       "      <td>16.00</td>\n",
       "    </tr>\n",
       "    <tr>\n",
       "      <th>9</th>\n",
       "      <td>teixeira soares</td>\n",
       "      <td>16.00</td>\n",
       "    </tr>\n",
       "  </tbody>\n",
       "</table>\n",
       "</div>"
      ],
      "text/plain": [
       "        customer city average products/order\n",
       "0      padre carvalho                  28.00\n",
       "1         celso ramos                  26.00\n",
       "2               datas                  24.00\n",
       "3       candido godoi                  24.00\n",
       "4      matias olimpio                  20.00\n",
       "5          cidelandia                  16.00\n",
       "6          curralinho                  16.00\n",
       "7             picarra                  16.00\n",
       "8  morro de sao paulo                  16.00\n",
       "9     teixeira soares                  16.00"
      ]
     },
     "execution_count": 9,
     "metadata": {},
     "output_type": "execute_result"
    }
   ],
   "source": [
    "query = \"\"\"with count_per_order as \n",
    "(select orders.order_id, orders.customer_id, count(order_items.order_id) as oc\n",
    "from orders join order_items\n",
    "on orders.order_id = order_items.order_id\n",
    "group by orders.order_id, orders.customer_id)\n",
    "\n",
    "select customers.customer_city, round(avg(count_per_order.oc),2) average_orders\n",
    "from customers join count_per_order\n",
    "on customers.customer_id = count_per_order.customer_id\n",
    "group by customers.customer_city order by average_orders desc\n",
    "\"\"\"\n",
    "\n",
    "cur.execute(query)\n",
    "\n",
    "data = cur.fetchall()\n",
    "df = pd.DataFrame(data,columns = [\"customer city\", \"average products/order\"])\n",
    "df.head(10)"
   ]
  },
  {
   "cell_type": "markdown",
   "id": "8c4f925c-00ec-48c5-8f75-d262b6e8551e",
   "metadata": {
    "jp-MarkdownHeadingCollapsed": true
   },
   "source": [
    "# Calculate the percentage of total revenue contributed by each product category."
   ]
  },
  {
   "cell_type": "code",
   "execution_count": 10,
   "id": "8576e927-e3c7-4feb-bf78-9e6d17f0a09b",
   "metadata": {},
   "outputs": [
    {
     "data": {
      "text/html": [
       "<div>\n",
       "<style scoped>\n",
       "    .dataframe tbody tr th:only-of-type {\n",
       "        vertical-align: middle;\n",
       "    }\n",
       "\n",
       "    .dataframe tbody tr th {\n",
       "        vertical-align: top;\n",
       "    }\n",
       "\n",
       "    .dataframe thead th {\n",
       "        text-align: right;\n",
       "    }\n",
       "</style>\n",
       "<table border=\"1\" class=\"dataframe\">\n",
       "  <thead>\n",
       "    <tr style=\"text-align: right;\">\n",
       "      <th></th>\n",
       "      <th>Category</th>\n",
       "      <th>percentage distribution</th>\n",
       "    </tr>\n",
       "  </thead>\n",
       "  <tbody>\n",
       "    <tr>\n",
       "      <th>0</th>\n",
       "      <td>BED TABLE BATH</td>\n",
       "      <td>42.79</td>\n",
       "    </tr>\n",
       "    <tr>\n",
       "      <th>1</th>\n",
       "      <td>HEALTH BEAUTY</td>\n",
       "      <td>41.41</td>\n",
       "    </tr>\n",
       "    <tr>\n",
       "      <th>2</th>\n",
       "      <td>COMPUTER ACCESSORIES</td>\n",
       "      <td>39.61</td>\n",
       "    </tr>\n",
       "    <tr>\n",
       "      <th>3</th>\n",
       "      <td>FURNITURE DECORATION</td>\n",
       "      <td>35.73</td>\n",
       "    </tr>\n",
       "    <tr>\n",
       "      <th>4</th>\n",
       "      <td>WATCHES PRESENT</td>\n",
       "      <td>35.71</td>\n",
       "    </tr>\n",
       "  </tbody>\n",
       "</table>\n",
       "</div>"
      ],
      "text/plain": [
       "               Category  percentage distribution\n",
       "0        BED TABLE BATH                    42.79\n",
       "1         HEALTH BEAUTY                    41.41\n",
       "2  COMPUTER ACCESSORIES                    39.61\n",
       "3  FURNITURE DECORATION                    35.73\n",
       "4       WATCHES PRESENT                    35.71"
      ]
     },
     "execution_count": 10,
     "metadata": {},
     "output_type": "execute_result"
    }
   ],
   "source": [
    "query = \"\"\"select upper(products.product_category) category, \n",
    "round((sum(payments.payment_value)/(select sum(payment_value) from payments))*100,2) sales_percentage\n",
    "from products join order_items \n",
    "on products.product_id = order_items.product_id\n",
    "join payments \n",
    "on payments.order_id = order_items.order_id\n",
    "group by category order by sales_percentage desc\"\"\"\n",
    "\n",
    "\n",
    "cur.execute(query)\n",
    "data = cur.fetchall()\n",
    "df = pd.DataFrame(data,columns = [\"Category\", \"percentage distribution\"])\n",
    "df.head()"
   ]
  },
  {
   "cell_type": "markdown",
   "id": "7ccf8f8e-007a-4ec3-9ca2-94e235f84351",
   "metadata": {
    "jp-MarkdownHeadingCollapsed": true
   },
   "source": [
    "# Identify the correlation between product price and the number of times a product has been purchased."
   ]
  },
  {
   "cell_type": "code",
   "execution_count": 13,
   "id": "7729247f-8329-46f1-9717-677c2dd3545e",
   "metadata": {},
   "outputs": [
    {
     "name": "stdout",
     "output_type": "stream",
     "text": [
      "the correlation is -0.10631514167157562\n"
     ]
    }
   ],
   "source": [
    "cur = db.cursor()\n",
    "query = \"\"\"select products.product_category, \n",
    "count(order_items.product_id),\n",
    "round(avg(order_items.price),2)\n",
    "from products join order_items\n",
    "on products.product_id = order_items.product_id\n",
    "group by products.product_category\"\"\"\n",
    "\n",
    "cur.execute(query)\n",
    "data = cur.fetchall()\n",
    "df = pd.DataFrame(data,columns = [\"Category\", \"order_count\",\"price\"])\n",
    "\n",
    "arr1 = df[\"order_count\"]\n",
    "arr2 = df[\"price\"]\n",
    "\n",
    "a = np.corrcoef([arr1,arr2])\n",
    "print(\"the correlation is\", a[0][-1])"
   ]
  },
  {
   "cell_type": "markdown",
   "id": "c28b94aa-79c6-4876-ad5c-90aa38fe6ffc",
   "metadata": {
    "jp-MarkdownHeadingCollapsed": true
   },
   "source": [
    "# Calculate the total revenue generated by each seller, and rank them by revenue."
   ]
  },
  {
   "cell_type": "code",
   "execution_count": 15,
   "id": "382668f3-cea6-4fd0-b47c-65e239f618e7",
   "metadata": {},
   "outputs": [
    {
     "data": {
      "image/png": "[encoded data removed]",
      "text/plain": [
       "<Figure size 640x480 with 1 Axes>"
      ]
     },
     "metadata": {},
     "output_type": "display_data"
    }
   ],
   "source": [
    "query = \"\"\" select *, dense_rank() over(order by revenue desc) as rn from\n",
    "(select order_items.seller_id, sum(payments.payment_value)\n",
    "revenue from order_items join payments\n",
    "on order_items.order_id = payments.order_id\n",
    "group by order_items.seller_id) as a \"\"\"\n",
    "\n",
    "cur.execute(query)\n",
    "data = cur.fetchall()\n",
    "df = pd.DataFrame(data, columns = [\"seller_id\", \"revenue\", \"rank\"])\n",
    "df = df.head()\n",
    "sns.barplot(x = \"seller_id\", y = \"revenue\", data = df, color='green')\n",
    "plt.xticks(rotation = 90)\n",
    "plt.show()"
   ]
  },
  {
   "cell_type": "markdown",
   "id": "9a19c960-01be-45ed-b671-21fd405c99dd",
   "metadata": {},
   "source": [
    "# Thank You !"
   ]
  }
 ],
 "metadata": {
  "kernelspec": {
   "display_name": "Python 3 (ipykernel)",
   "language": "python",
   "name": "python3"
  },
  "language_info": {
   "codemirror_mode": {
    "name": "ipython",
    "version": 3
   },
   "file_extension": ".py",
   "mimetype": "text/x-python",
   "name": "python",
   "nbconvert_exporter": "python",
   "pygments_lexer": "ipython3",
   "version": "3.12.4"
  }
 },
 "nbformat": 4,
 "nbformat_minor": 5
}
